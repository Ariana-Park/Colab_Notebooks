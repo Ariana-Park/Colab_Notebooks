{
  "nbformat": 4,
  "nbformat_minor": 0,
  "metadata": {
    "colab": {
      "name": "TitanicNotebook.ipynb",
      "provenance": [],
      "authorship_tag": "ABX9TyOCu3iysgQD5b/q+5tUHymt",
      "include_colab_link": true
    },
    "kernelspec": {
      "name": "python3",
      "display_name": "Python 3"
    }
  },
  "cells": [
    {
      "cell_type": "markdown",
      "metadata": {
        "id": "view-in-github",
        "colab_type": "text"
      },
      "source": [
        "<a href=\"https://colab.research.google.com/github/Ariana-Park/Colab_Notebooks/blob/master/TitanicNotebook.ipynb\" target=\"_parent\"><img src=\"https://colab.research.google.com/assets/colab-badge.svg\" alt=\"Open In Colab\"/></a>"
      ]
    },
    {
      "cell_type": "markdown",
      "metadata": {
        "id": "x0ExQ6CzZ5bC",
        "colab_type": "text"
      },
      "source": [
        "Daimensions Setup"
      ]
    },
    {
      "cell_type": "code",
      "metadata": {
        "id": "R_akwJGIxtfp",
        "colab_type": "code",
        "colab": {
          "base_uri": "https://localhost:8080/",
          "height": 228
        },
        "outputId": "cf44eb26-9af2-4d49-a374-860e5b4bdb0d"
      },
      "source": [
        "#! sh btc-setup.sh"
      ],
      "execution_count": null,
      "outputs": [
        {
          "output_type": "stream",
          "text": [
            "===================================================\n",
            "Daimensions installation script - (c) Brainome 2020\n",
            "===================================================\n",
            "OS detected: Ubuntu (18.04)\n",
            "This script will needs admin permission to create a directory in /usr/local/daimensions\n",
            "Do you wish to continue [Y/n]? Y\n",
            "Downloading btc_linux ... Done\n",
            "Creating /usr/local/daimensions\n",
            "Copying btc into /usr/local/daimensions\n",
            "Linking /usr/local/bin/btc to /usr/local/daimensions/btc\n",
            "Installation of btc was successful.\n",
            "Make sure that /usr/local/bin is in your path, otherwise run /usr/local/bin/btc\n"
          ],
          "name": "stdout"
        }
      ]
    },
    {
      "cell_type": "code",
      "metadata": {
        "id": "KbhZiSxNQVHe",
        "colab_type": "code",
        "colab": {}
      },
      "source": [
        "#! /usr/local/bin/btc"
      ],
      "execution_count": null,
      "outputs": []
    },
    {
      "cell_type": "markdown",
      "metadata": {
        "id": "JHM-YgWLakJd",
        "colab_type": "text"
      },
      "source": [
        "Perform Measurements on Titanic Data"
      ]
    },
    {
      "cell_type": "code",
      "metadata": {
        "id": "MYX7EKUXRA5e",
        "colab_type": "code",
        "colab": {
          "base_uri": "https://localhost:8080/",
          "height": 35
        },
        "outputId": "da6aa8a1-8a26-4978-a46d-dbdc024bba60"
      },
      "source": [
        "! btc -measureonly train.csv -target Survived\n",
        "#QC"
      ],
      "execution_count": null,
      "outputs": [
        {
          "output_type": "stream",
          "text": [
            "/bin/bash: btc: command not found\n"
          ],
          "name": "stdout"
        }
      ]
    },
    {
      "cell_type": "code",
      "metadata": {
        "id": "FDXMuYvnR9hA",
        "colab_type": "code",
        "colab": {}
      },
      "source": [
        "! btc -measureonly train.csv -f NN -target Survived\n",
        "#NN"
      ],
      "execution_count": null,
      "outputs": []
    },
    {
      "cell_type": "markdown",
      "metadata": {
        "id": "mUrAi3PYa0EA",
        "colab_type": "text"
      },
      "source": [
        "Build Model"
      ]
    },
    {
      "cell_type": "code",
      "metadata": {
        "id": "PW5_dRfNSrIw",
        "colab_type": "code",
        "colab": {}
      },
      "source": [
        "! btc -v -v -f NN train.csv -o predict.py -e 5 -target Survived"
      ],
      "execution_count": null,
      "outputs": []
    },
    {
      "cell_type": "markdown",
      "metadata": {
        "id": "Tpbl9cZ_a3qB",
        "colab_type": "text"
      },
      "source": [
        "Make Prediction"
      ]
    },
    {
      "cell_type": "code",
      "metadata": {
        "id": "hj1E9yOTWXVg",
        "colab_type": "code",
        "colab": {}
      },
      "source": [
        "! python3 predict.py test.csv > prediction.csv\n",
        "! cat prediction.csv"
      ],
      "execution_count": null,
      "outputs": []
    },
    {
      "cell_type": "code",
      "metadata": {
        "id": "ETpvhbtrhXIi",
        "colab_type": "code",
        "colab": {}
      },
      "source": [
        "# format to submit to kaggle\n",
        "! awk -F, '{print $1,$NF}' prediction.csv > submission.csv"
      ],
      "execution_count": null,
      "outputs": []
    },
    {
      "cell_type": "code",
      "metadata": {
        "id": "APXbCmS_kejI",
        "colab_type": "code",
        "colab": {
          "base_uri": "https://localhost:8080/",
          "height": 158
        },
        "outputId": "25458650-50c6-4da5-e314-4a7959e50e34"
      },
      "source": [
        "! kaggle competitions download -c titanic"
      ],
      "execution_count": null,
      "outputs": [
        {
          "output_type": "stream",
          "text": [
            "Traceback (most recent call last):\n",
            "  File \"/usr/local/bin/kaggle\", line 5, in <module>\n",
            "    from kaggle.cli import main\n",
            "  File \"/usr/local/lib/python2.7/dist-packages/kaggle/__init__.py\", line 23, in <module>\n",
            "    api.authenticate()\n",
            "  File \"/usr/local/lib/python2.7/dist-packages/kaggle/api/kaggle_api_extended.py\", line 146, in authenticate\n",
            "    self.config_file, self.config_dir))\n",
            "IOError: Could not find kaggle.json. Make sure it's located in /root/.kaggle. Or use the environment method.\n"
          ],
          "name": "stdout"
        }
      ]
    }
  ]
}